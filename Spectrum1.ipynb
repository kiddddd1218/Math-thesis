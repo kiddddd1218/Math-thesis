{
 "cells": [
  {
   "cell_type": "code",
   "execution_count": 6,
   "metadata": {},
   "outputs": [],
   "source": [
    "import scipy\n",
    "import numpy as np\n",
    "from scipy.special import roots_legendre, eval_legendre\n",
    "from numpy.linalg import norm\n",
    "from scipy import special as ss\n",
    "import matplotlib.pyplot as plt\n",
    "from scipy.optimize import minimize\n",
    "from sympy import *\n",
    "import pandas as pd"
   ]
  },
  {
   "attachments": {},
   "cell_type": "markdown",
   "metadata": {},
   "source": [
    "## Stage 1: Construct an initial quadrature on X\n"
   ]
  },
  {
   "cell_type": "code",
   "execution_count": 27,
   "metadata": {},
   "outputs": [],
   "source": [
    "## X is the equilateral triangle with vetice (0,0) (1,0) (1/2,sqrt(3)/2)\n",
    "# a,b = -.5,1\n",
    "# c,d = -np.sqrt(3)/2,np.sqrt(3)/2\n",
    "\n",
    "a,b = 0,2\n",
    "c,d = -1,1\n",
    "n = 5\n",
    "from disk_rule import *\n",
    "\n",
    "w,x,y = disk_rule(10,10,0,0,1)\n",
    "x+=1\n",
    "y+=1\n",
    "# n_w,n_x,n_y = [],[],[]\n",
    "# for i in range(len(w)):\n",
    "#     if y[i] > 0:\n",
    "#         n_w.append(w[i])\n",
    "#         n_x.append(x[i])\n",
    "#         n_y.append(y[i])\n",
    "# w,x,y = n_w,n_x,n_y\n",
    "NN = (n+1)*(n+2)//2\n",
    "roots, weights = roots_legendre(2*n)\n",
    "mapped_roots1 = a + (b-a)*(roots+1)/2\n",
    "mapped_roots2 = c + (d-c)*(roots+1)/2\n",
    "mapped_weights1= (b-a)*weights/2\n",
    "mapped_weights2= (d-c)*weights/2\n",
    "\n",
    "# tensor_w = mapped_weights1.reshape(n,1)@mapped_weights2.reshape(1,n)"
   ]
  },
  {
   "cell_type": "code",
   "execution_count": 8,
   "metadata": {},
   "outputs": [
    {
     "data": {
      "text/plain": [
       "<matplotlib.collections.PathCollection at 0x255ff80ba30>"
      ]
     },
     "execution_count": 8,
     "metadata": {},
     "output_type": "execute_result"
    },
    {
     "data": {
      "image/png": "[encoded data removed]",
      "text/plain": [
       "<Figure size 640x480 with 1 Axes>"
      ]
     },
     "metadata": {},
     "output_type": "display_data"
    }
   ],
   "source": [
    "xx,yy = np.meshgrid(mapped_roots1,mapped_roots2)\n",
    "plt.title('125-point non-efficient quadrature over a non-convex region')\n",
    "plt.scatter(yy*(1-xx/2),xx+1,s=1,c='black')\n",
    "plt.scatter(yy*(1-xx/2),-xx-1,s=1,c='black')\n",
    "# plt.scatter(xx,yy,s=1,c='black')\n",
    "plt.scatter(-xx-1,yy*(1-xx/2),s=1,c='black')\n",
    "plt.scatter(xx-1,yy,s=1,c='black')\n",
    "plt.scatter(xx+1,yy*(1-xx/2),s=1,c='black')\n",
    "# plt.savefig('data/initial_nc.png')\n"
   ]
  },
  {
   "attachments": {},
   "cell_type": "markdown",
   "metadata": {},
   "source": [
    "# Stage 2: Construct an orthonormal basis of the space $P_n$"
   ]
  },
  {
   "cell_type": "code",
   "execution_count": 28,
   "metadata": {},
   "outputs": [],
   "source": [
    "# def int_f(f,n):\n",
    "#     res = 0\n",
    "#     for i in range(n):\n",
    "#         for j in range(n):\n",
    "#             x,y = mapped_roots1[i] , mapped_roots2[j]\n",
    "#             res += (2-2*x)/3*tensor_w[i][j] * f(x,(2-2*x)*y/3)\n",
    "#     return res\n",
    "    \n",
    "def int_f(f,n):\n",
    "    res = 0\n",
    "    for i in range(len(mapped_roots1)):\n",
    "        for j in range(len(mapped_roots2)):\n",
    "            x,y = mapped_roots1[i] , mapped_roots2[j]\n",
    "            w1,w2 = mapped_weights1[i],mapped_weights2[j]\n",
    "            res += w1*w2 * f(x, y)\n",
    "            # res += abs(1-x/2)*w1*w2 * f(x, y*(1-x/2))\n",
    "            # res += abs(1-x/2)*w1*w2 * f(y*(1-x/2),x+1)\n",
    "            # res += abs(1-x/2)*w1*w2 * f(-x-1, y*(1-x/2))\n",
    "            # res += abs(1-x/2)*w1*w2 * f(y*(1-x/2),-x-1)\n",
    "    return res\n",
    "\n",
    "# def int_f(f,n):\n",
    "#     res = 0\n",
    "#     for i in range(len(mapped_roots1)):\n",
    "#         for j in range(len(mapped_roots2)):\n",
    "#             x,y = mapped_roots1[i] , mapped_roots2[j]\n",
    "#             res += tensor_w[i][j] * f(x, y)\n",
    "#     return res\n",
    "# def int_f(f,n):\n",
    "#     res = 0\n",
    "#     for i in range(len(w)):\n",
    "#         res += w[i] * f(x[i],y[i])\n",
    "#     return np.pi*res\n",
    "# def int_f(f,n):\n",
    "#     res = 0\n",
    "#     for i in range(len(mapped_roots11)):\n",
    "#         for j in range(len(mapped_roots22)):\n",
    "#             x1,y1 = mapped_roots1[i] , mapped_roots2[j]\n",
    "#             x2,y2 = mapped_roots11[i] , mapped_roots22[j]\n",
    "#             w1,w2 = mapped_weights1[i],mapped_roots2[j]\n",
    "#             v1,v2 = mapped_weights11[i],mapped_roots22[j]\n",
    "#             res += w1*w2*f(x1,y1)\n",
    "#             # res += (1-2*x2/3)*v1*v2*f(x2,x2/np.sqrt(3)+y2-2*x2*y2/3)\n",
    "#     return res\n",
    "\n",
    "## Find start and end point of x**i in a \n",
    "def start(i,N):\n",
    "    return (2*N+4-i)*(i-1) // 2\n",
    "def end(i,N):\n",
    "    return (2*N+3-i)*i//2-1\n",
    "\n",
    "def vec2tri(vec,N):\n",
    "    empty = np.zeros((N+1,N+1))\n",
    "    for row in range(N):\n",
    "        s = start(row+1,N)\n",
    "        e = end(row+1,N)\n",
    "        new_row = np.concatenate([vec[s:e+1],np.zeros(N-(e-s))],axis=0)\n",
    "        empty[row] += new_row\n",
    "    return empty\n",
    "\n",
    "def tri2vec(tri,N):\n",
    "    l = []\n",
    "    for row in range(N+1):\n",
    "         l.append(tri[row][:N+1-row])\n",
    "    return np.block(l)\n",
    "\n",
    "def xvec(vec,k,N):\n",
    "    vec_tri = vec2tri(vec,N)\n",
    "    newtri = np.zeros((N+1,N+1))\n",
    "    for i in range(N):\n",
    "        for j in range(N):\n",
    "            if vec_tri[i,j] != 0:\n",
    "                newtri[i+1,j] = vec_tri[i,j]\n",
    "    return tri2vec(newtri,N)\n",
    "\n",
    "def yvec(vec,k,N):\n",
    "    vec_tri = vec2tri(vec,N)\n",
    "    newtri = np.zeros((N+1,N+1))\n",
    "    for i in range(N):\n",
    "        for j in range(N):\n",
    "            if vec_tri[i,j] != 0:\n",
    "                newtri[i,j+1] = vec_tri[i,j]\n",
    "    return tri2vec(newtri,N)\n",
    "\n",
    "def eval_vec(vec,x,y,n):\n",
    "    mat = vec2tri(vec,n)\n",
    "    res = 0\n",
    "    for row in range(n):\n",
    "        for j in range(n):\n",
    "            res += mat[row][j] * x**row * y**j\n",
    "    return res\n",
    "\n",
    "def eval_xderivative(vec,x,y,n):\n",
    "    mat = vec2tri(vec,n)\n",
    "    res = 0\n",
    "    for row in range(n):\n",
    "        for j in range(n):\n",
    "            if row == 0:\n",
    "                res += 0\n",
    "            else:\n",
    "                res += row * mat[row][j] * x**(row-1) * y**j\n",
    "    return res\n",
    "\n",
    "def eval_yderivative(vec,x,y,n):\n",
    "    mat = vec2tri(vec,n)\n",
    "    res = 0\n",
    "    for row in range(n):\n",
    "        for j in range(n):\n",
    "            if j == 0:\n",
    "                res += 0\n",
    "            else:\n",
    "                res += j * mat[row][j] * x**row * y**(j-1)\n",
    "    return res\n",
    "\n",
    "def find_basis(d):\n",
    "    p0 = np.block([1,np.zeros((d+1)*(d+2)//2-1)])\n",
    "    basis = [p0.reshape(-1,1)]\n",
    "\n",
    "    for k in range(1,d+1):\n",
    "        cb = basis.copy()\n",
    "        for p in basis:\n",
    "            xb = xvec(p.flatten(),k,d)\n",
    "            yb = yvec(p.flatten(),k,d)\n",
    "            cb.append(xb.reshape(-1,1))\n",
    "            cb.append(yb.reshape(-1,1))\n",
    "        threeK = np.concatenate(cb,axis=1)    \n",
    "        u,r,vh = scipy.linalg.svd(threeK)\n",
    "        basis = []\n",
    "        for i in range(r.shape[0]):\n",
    "            basis.append(u[:,i].reshape(-1,1))\n",
    "    return basis\n",
    "\n",
    "basis = find_basis(n)\n"
   ]
  },
  {
   "cell_type": "code",
   "execution_count": 10,
   "metadata": {},
   "outputs": [
    {
     "data": {
      "text/plain": [
       "15.298901724512774"
      ]
     },
     "execution_count": 10,
     "metadata": {},
     "output_type": "execute_result"
    }
   ],
   "source": [
    "i,j =2,5\n",
    "f = lambda m,n:m**i*n**j\n",
    "int_f(f,n)"
   ]
  },
  {
   "attachments": {},
   "cell_type": "markdown",
   "metadata": {},
   "source": [
    "# Stage 3: Find the eigenvalues of $P_U \\circ M_{x+iy}$"
   ]
  },
  {
   "cell_type": "code",
   "execution_count": 29,
   "metadata": {},
   "outputs": [],
   "source": [
    "N = len(basis)\n",
    "A = np.zeros((N,N),dtype=complex)\n",
    "\n",
    "for i in range(N):\n",
    "    for j in range(N):\n",
    "        f = lambda x,y: complex(x,y)*eval_vec(basis[i].flatten(),x,y,n)*np.conj(eval_vec(basis[j].flatten(),x,y,n))\n",
    "        A[i][j] = int_f(f,n)\n",
    "eigens = scipy.linalg.eigvals(A)\n",
    "X,Y = eigens.real,eigens.imag"
   ]
  },
  {
   "cell_type": "code",
   "execution_count": 30,
   "metadata": {},
   "outputs": [
    {
     "data": {
      "image/png": "[encoded data removed]",
      "text/plain": [
       "<Figure size 640x480 with 1 Axes>"
      ]
     },
     "metadata": {},
     "output_type": "display_data"
    }
   ],
   "source": [
    "plt.scatter(X,Y,s=1,c='black')\n",
    "t = np.linspace(-1,1,100)\n",
    "# plt.plot(t,(1-t**2)**.5)"
   ]
  },
  {
   "attachments": {},
   "cell_type": "markdown",
   "metadata": {},
   "source": [
    "# Stage 4: Construct the quadrature"
   ]
  },
  {
   "cell_type": "code",
   "execution_count": 32,
   "metadata": {},
   "outputs": [],
   "source": [
    "m = 6\n",
    "M =(m+1)*(m+2)//2\n",
    "# while M < 3*NN:\n",
    "#     m += 1\n",
    "#     M =(m+1)*(m+2)//2\n",
    "    \n",
    "basis_m = find_basis(m)\n",
    "I = []\n",
    "for j in range(M):\n",
    "    f = lambda x,y: eval_vec(basis_m[j].flatten(),x,y,m)\n",
    "    I.append(int_f(f,n))\n",
    "\n",
    "\n",
    "phi = np.zeros((M,eigens.shape[0]))\n",
    "for i in range(M):\n",
    "    p = basis_m[i].flatten()\n",
    "    for j in range(X.shape[0]):\n",
    "        # r = mapped_roots[j]\n",
    "        phi[i][j] = eval_vec(p,X[j],Y[j],m)\n",
    "# omega,s = scipy.optimize.nnls(phi,np.array(I))\n",
    "omega = scipy.linalg.lstsq(phi,np.array(I))[0]"
   ]
  },
  {
   "cell_type": "code",
   "execution_count": 35,
   "metadata": {},
   "outputs": [
    {
     "name": "stdout",
     "output_type": "stream",
     "text": [
      "22\n",
      "0th residual is 4.38692245114787.\n",
      "22\n",
      "10th residual is 4.386922451147721.\n",
      "22\n",
      "20th residual is 4.386922451147721.\n",
      "22\n",
      "30th residual is 4.386922451147721.\n",
      "22\n",
      "40th residual is 4.386922451147721.\n",
      "22\n",
      "50th residual is 4.386922451147721.\n",
      "22\n",
      "60th residual is 4.386922451147721.\n",
      "22\n",
      "70th residual is 4.386922451147721.\n",
      "22\n",
      "80th residual is 4.386922451147721.\n",
      "22\n",
      "90th residual is 4.386922451147721.\n",
      "22\n",
      "100th residual is 4.386922451147721.\n",
      "22\n",
      "110th residual is 4.386922451147721.\n",
      "22\n",
      "120th residual is 4.386922451147721.\n",
      "22\n",
      "130th residual is 4.386922451147721.\n",
      "22\n",
      "140th residual is 4.386922451147721.\n",
      "22\n",
      "150th residual is 4.386922451147721.\n"
     ]
    },
    {
     "ename": "KeyboardInterrupt",
     "evalue": "",
     "output_type": "error",
     "traceback": [
      "\u001b[1;31m---------------------------------------------------------------------------\u001b[0m",
      "\u001b[1;31mKeyboardInterrupt\u001b[0m                         Traceback (most recent call last)",
      "Cell \u001b[1;32mIn [35], line 51\u001b[0m\n\u001b[0;32m     45\u001b[0m mu \u001b[38;5;241m=\u001b[39m \u001b[38;5;241m1e-9\u001b[39m\n\u001b[0;32m     46\u001b[0m \u001b[38;5;28;01mfor\u001b[39;00m i \u001b[38;5;129;01min\u001b[39;00m \u001b[38;5;28mrange\u001b[39m(\u001b[38;5;241m1000\u001b[39m):\n\u001b[0;32m     47\u001b[0m     \u001b[38;5;66;03m# print(i)\u001b[39;00m\n\u001b[0;32m     48\u001b[0m     \u001b[38;5;66;03m# step += 1\u001b[39;00m\n\u001b[0;32m     49\u001b[0m     \u001b[38;5;66;03m# K = J(point).T@J(point)\u001b[39;00m\n\u001b[0;32m     50\u001b[0m     \u001b[38;5;66;03m# mu = 0.5*scipy.linalg.eigh(K)[-1]\u001b[39;00m\n\u001b[1;32m---> 51\u001b[0m     p \u001b[38;5;241m=\u001b[39m \u001b[38;5;241m-\u001b[39mscipy\u001b[38;5;241m.\u001b[39mlinalg\u001b[38;5;241m.\u001b[39mpinv(\u001b[43mJ\u001b[49m\u001b[43m(\u001b[49m\u001b[43mpoint\u001b[49m\u001b[43m)\u001b[49m\u001b[38;5;241m.\u001b[39mT\u001b[38;5;129m@J\u001b[39m(point))\u001b[38;5;241m@\u001b[39m(J(point)\u001b[38;5;241m.\u001b[39mT)\u001b[38;5;129m@F\u001b[39m(point)\n\u001b[0;32m     53\u001b[0m     \u001b[38;5;66;03m# p = scipy.linalg.inv(K+mu*A)(J(point).T)@F(point)#+ mu*A\u001b[39;00m\n\u001b[0;32m     54\u001b[0m     \u001b[38;5;66;03m# alpha = line_search(p,point)\u001b[39;00m\n\u001b[0;32m     55\u001b[0m     \u001b[38;5;66;03m# print(\"Linesearch finished\")\u001b[39;00m\n\u001b[0;32m     56\u001b[0m     alpha \u001b[38;5;241m=\u001b[39m line_search(p,point)\n",
      "Cell \u001b[1;32mIn [35], line 25\u001b[0m, in \u001b[0;36mJ\u001b[1;34m(point)\u001b[0m\n\u001b[0;32m     23\u001b[0m     dx \u001b[38;5;241m=\u001b[39m np\u001b[38;5;241m.\u001b[39marray([eval_xderivative(basis_m[i]\u001b[38;5;241m.\u001b[39mflatten(),x[j],y[j],m) \u001b[38;5;28;01mfor\u001b[39;00m j \u001b[38;5;129;01min\u001b[39;00m \u001b[38;5;28mrange\u001b[39m(NN)])\u001b[38;5;241m*\u001b[39mw\n\u001b[0;32m     24\u001b[0m     dy \u001b[38;5;241m=\u001b[39m np\u001b[38;5;241m.\u001b[39marray([eval_yderivative(basis_m[i]\u001b[38;5;241m.\u001b[39mflatten(),x[j],y[j],m) \u001b[38;5;28;01mfor\u001b[39;00m j \u001b[38;5;129;01min\u001b[39;00m \u001b[38;5;28mrange\u001b[39m(NN)])\u001b[38;5;241m*\u001b[39mw\n\u001b[1;32m---> 25\u001b[0m     dw \u001b[38;5;241m=\u001b[39m np\u001b[38;5;241m.\u001b[39marray([eval_vec(basis_m[i]\u001b[38;5;241m.\u001b[39mflatten(),x[j],y[j],m) \u001b[38;5;28;01mfor\u001b[39;00m j \u001b[38;5;129;01min\u001b[39;00m \u001b[38;5;28mrange\u001b[39m(NN)])\n\u001b[0;32m     26\u001b[0m     res[i] \u001b[38;5;241m=\u001b[39m np\u001b[38;5;241m.\u001b[39mconcatenate([dx,dy,dw],axis\u001b[38;5;241m=\u001b[39m\u001b[38;5;241m0\u001b[39m)\n\u001b[0;32m     27\u001b[0m \u001b[38;5;28;01mreturn\u001b[39;00m res\n",
      "Cell \u001b[1;32mIn [35], line 25\u001b[0m, in \u001b[0;36m<listcomp>\u001b[1;34m(.0)\u001b[0m\n\u001b[0;32m     23\u001b[0m     dx \u001b[38;5;241m=\u001b[39m np\u001b[38;5;241m.\u001b[39marray([eval_xderivative(basis_m[i]\u001b[38;5;241m.\u001b[39mflatten(),x[j],y[j],m) \u001b[38;5;28;01mfor\u001b[39;00m j \u001b[38;5;129;01min\u001b[39;00m \u001b[38;5;28mrange\u001b[39m(NN)])\u001b[38;5;241m*\u001b[39mw\n\u001b[0;32m     24\u001b[0m     dy \u001b[38;5;241m=\u001b[39m np\u001b[38;5;241m.\u001b[39marray([eval_yderivative(basis_m[i]\u001b[38;5;241m.\u001b[39mflatten(),x[j],y[j],m) \u001b[38;5;28;01mfor\u001b[39;00m j \u001b[38;5;129;01min\u001b[39;00m \u001b[38;5;28mrange\u001b[39m(NN)])\u001b[38;5;241m*\u001b[39mw\n\u001b[1;32m---> 25\u001b[0m     dw \u001b[38;5;241m=\u001b[39m np\u001b[38;5;241m.\u001b[39marray([\u001b[43meval_vec\u001b[49m\u001b[43m(\u001b[49m\u001b[43mbasis_m\u001b[49m\u001b[43m[\u001b[49m\u001b[43mi\u001b[49m\u001b[43m]\u001b[49m\u001b[38;5;241;43m.\u001b[39;49m\u001b[43mflatten\u001b[49m\u001b[43m(\u001b[49m\u001b[43m)\u001b[49m\u001b[43m,\u001b[49m\u001b[43mx\u001b[49m\u001b[43m[\u001b[49m\u001b[43mj\u001b[49m\u001b[43m]\u001b[49m\u001b[43m,\u001b[49m\u001b[43my\u001b[49m\u001b[43m[\u001b[49m\u001b[43mj\u001b[49m\u001b[43m]\u001b[49m\u001b[43m,\u001b[49m\u001b[43mm\u001b[49m\u001b[43m)\u001b[49m \u001b[38;5;28;01mfor\u001b[39;00m j \u001b[38;5;129;01min\u001b[39;00m \u001b[38;5;28mrange\u001b[39m(NN)])\n\u001b[0;32m     26\u001b[0m     res[i] \u001b[38;5;241m=\u001b[39m np\u001b[38;5;241m.\u001b[39mconcatenate([dx,dy,dw],axis\u001b[38;5;241m=\u001b[39m\u001b[38;5;241m0\u001b[39m)\n\u001b[0;32m     27\u001b[0m \u001b[38;5;28;01mreturn\u001b[39;00m res\n",
      "Cell \u001b[1;32mIn [28], line 86\u001b[0m, in \u001b[0;36meval_vec\u001b[1;34m(vec, x, y, n)\u001b[0m\n\u001b[0;32m     85\u001b[0m \u001b[38;5;28;01mdef\u001b[39;00m \u001b[38;5;21meval_vec\u001b[39m(vec,x,y,n):\n\u001b[1;32m---> 86\u001b[0m     mat \u001b[38;5;241m=\u001b[39m \u001b[43mvec2tri\u001b[49m\u001b[43m(\u001b[49m\u001b[43mvec\u001b[49m\u001b[43m,\u001b[49m\u001b[43mn\u001b[49m\u001b[43m)\u001b[49m\n\u001b[0;32m     87\u001b[0m     res \u001b[38;5;241m=\u001b[39m \u001b[38;5;241m0\u001b[39m\n\u001b[0;32m     88\u001b[0m     \u001b[38;5;28;01mfor\u001b[39;00m row \u001b[38;5;129;01min\u001b[39;00m \u001b[38;5;28mrange\u001b[39m(n):\n",
      "Cell \u001b[1;32mIn [28], line 57\u001b[0m, in \u001b[0;36mvec2tri\u001b[1;34m(vec, N)\u001b[0m\n\u001b[0;32m     55\u001b[0m     s \u001b[38;5;241m=\u001b[39m start(row\u001b[38;5;241m+\u001b[39m\u001b[38;5;241m1\u001b[39m,N)\n\u001b[0;32m     56\u001b[0m     e \u001b[38;5;241m=\u001b[39m end(row\u001b[38;5;241m+\u001b[39m\u001b[38;5;241m1\u001b[39m,N)\n\u001b[1;32m---> 57\u001b[0m     new_row \u001b[38;5;241m=\u001b[39m \u001b[43mnp\u001b[49m\u001b[38;5;241;43m.\u001b[39;49m\u001b[43mconcatenate\u001b[49m\u001b[43m(\u001b[49m\u001b[43m[\u001b[49m\u001b[43mvec\u001b[49m\u001b[43m[\u001b[49m\u001b[43ms\u001b[49m\u001b[43m:\u001b[49m\u001b[43me\u001b[49m\u001b[38;5;241;43m+\u001b[39;49m\u001b[38;5;241;43m1\u001b[39;49m\u001b[43m]\u001b[49m\u001b[43m,\u001b[49m\u001b[43mnp\u001b[49m\u001b[38;5;241;43m.\u001b[39;49m\u001b[43mzeros\u001b[49m\u001b[43m(\u001b[49m\u001b[43mN\u001b[49m\u001b[38;5;241;43m-\u001b[39;49m\u001b[43m(\u001b[49m\u001b[43me\u001b[49m\u001b[38;5;241;43m-\u001b[39;49m\u001b[43ms\u001b[49m\u001b[43m)\u001b[49m\u001b[43m)\u001b[49m\u001b[43m]\u001b[49m\u001b[43m,\u001b[49m\u001b[43maxis\u001b[49m\u001b[38;5;241;43m=\u001b[39;49m\u001b[38;5;241;43m0\u001b[39;49m\u001b[43m)\u001b[49m\n\u001b[0;32m     58\u001b[0m     empty[row] \u001b[38;5;241m+\u001b[39m\u001b[38;5;241m=\u001b[39m new_row\n\u001b[0;32m     59\u001b[0m \u001b[38;5;28;01mreturn\u001b[39;00m empty\n",
      "File \u001b[1;32m<__array_function__ internals>:180\u001b[0m, in \u001b[0;36mconcatenate\u001b[1;34m(*args, **kwargs)\u001b[0m\n",
      "\u001b[1;31mKeyboardInterrupt\u001b[0m: "
     ]
    }
   ],
   "source": [
    "x0 = np.concatenate([X,Y,omega])\n",
    "\n",
    "def F(point):\n",
    "    x = point[:NN]\n",
    "    y = point[NN:2*NN]\n",
    "    w = point[2*NN:]\n",
    "    res = np.zeros(M)\n",
    "    for i in range(M):\n",
    "        eval = np.array([eval_vec(basis_m[i].flatten(),x[j],y[j],m) for j in range(NN)])\n",
    "        res[i] = eval@w\n",
    "    res -= I\n",
    "    return res\n",
    "\n",
    "def residual(point):\n",
    "    return (F(point)**2).sum()\n",
    "def J(point):\n",
    "    x = point[:NN]\n",
    "    y = point[NN:2*NN]\n",
    "    w = point[2*NN:]\n",
    "\n",
    "    res = np.zeros((M,3*NN))\n",
    "    for i in range(M):\n",
    "        dx = np.array([eval_xderivative(basis_m[i].flatten(),x[j],y[j],m) for j in range(NN)])*w\n",
    "        dy = np.array([eval_yderivative(basis_m[i].flatten(),x[j],y[j],m) for j in range(NN)])*w\n",
    "        dw = np.array([eval_vec(basis_m[i].flatten(),x[j],y[j],m) for j in range(NN)])\n",
    "        res[i] = np.concatenate([dx,dy,dw],axis=0)\n",
    "    return res\n",
    "\n",
    "def line_search(p,point):\n",
    "    alpha = 1\n",
    "    while residual(point+p) > residual(point):\n",
    "        alpha *=1e-1\n",
    "        if alpha <= 2e-5:\n",
    "            break\n",
    "    # print(alpha,'is selected')\n",
    "    return alpha\n",
    "\n",
    "\n",
    "\n",
    "\n",
    "tol = 1e-15\n",
    "point = x0\n",
    "step = 0\n",
    "A = np.eye(3*NN)\n",
    "mu = 1e-9\n",
    "for i in range(1000):\n",
    "    # print(i)\n",
    "    # step += 1\n",
    "    # K = J(point).T@J(point)\n",
    "    # mu = 0.5*scipy.linalg.eigh(K)[-1]\n",
    "    p = -scipy.linalg.pinv(J(point).T@J(point))@(J(point).T)@F(point)\n",
    "    \n",
    "    # p = scipy.linalg.inv(K+mu*A)(J(point).T)@F(point)#+ mu*A\n",
    "    # alpha = line_search(p,point)\n",
    "    # print(\"Linesearch finished\")\n",
    "    alpha = line_search(p,point)\n",
    "    point_proposal = point + p*alpha\n",
    "    # diff = (point_proposal - point).reshape(-1,1)\n",
    "\n",
    "    # A = ((J(point_proposal).T@F(point_proposal)-J(point).T@F(point)).reshape(-1,1)) @ (diff.T) @ scipy.linalg.inv(diff@(diff.T))\n",
    "    \n",
    "    if residual(point_proposal) <= tol:\n",
    "        point = point_proposal\n",
    "        break\n",
    "    point = point_proposal\n",
    "    if i % 10 == 0:\n",
    "        print(np.linalg.matrix_rank(J(point)))\n",
    "        print('{}th residual is {}.'.format(i,residual(point)))\n",
    "    \n",
    "\n",
    "\n",
    "\n",
    "# from scipy.optimize import root,fsolve,minimize\n",
    "# # # res,s = minimize(residual,x0).x, minimize(residual,x0)\n",
    "# # nF = lambda x: F(x)[:3*NN]\n",
    "# # res = fsolve(nF,x0)\n",
    "# res = minimize(residual,x0 )\n",
    "# point,s = res.x,res.success"
   ]
  },
  {
   "attachments": {},
   "cell_type": "markdown",
   "metadata": {},
   "source": [
    "# 45 Points"
   ]
  },
  {
   "cell_type": "code",
   "execution_count": null,
   "metadata": {},
   "outputs": [
    {
     "data": {
      "text/plain": [
       "8.844338946022622e-14"
      ]
     },
     "execution_count": 64,
     "metadata": {},
     "output_type": "execute_result"
    }
   ],
   "source": [
    "residual(point)\n"
   ]
  },
  {
   "cell_type": "code",
   "execution_count": null,
   "metadata": {},
   "outputs": [
    {
     "data": {
      "image/png": "[encoded data removed]",
      "text/plain": [
       "<Figure size 640x480 with 1 Axes>"
      ]
     },
     "metadata": {},
     "output_type": "display_data"
    }
   ],
   "source": [
    "import matplotlib.pyplot as plt\n",
    "x = point[:NN]\n",
    "y = point[NN:2*NN]\n",
    "w = point[2*NN:]\n",
    "# for i in range(NN):\n",
    "#     if abs(x[i]) > 1:\n",
    "#         x[i] = \n",
    "# x[0] = 0\n",
    "# x[3] = 0\n",
    "# y[1] = 0\n",
    "# y[2] = 0\n",
    "pd.DataFrame(np.array([x, y, w]).T, columns=[\n",
    "             'x', 'y', 'w']).to_csv('data/sq.csv')\n",
    "plt.scatter(x, y, s=1)\n",
    "# plt.xlim(0,1)\n",
    "# plt.ylim(0,1)\n",
    "# x1 = np.linspace(0,1/2,100)\n",
    "# x2 = np.linspace(0.5,1,100)\n",
    "# y1 = 3**0.5*x1\n",
    "# y2 = 3**0.5*(1-x2)\n",
    "# plt.plot(x1,y1)\n",
    "# plt.plot(x2,y2)\n",
    "x1 = np.linspace(-1, 1, 1000)\n",
    "\n",
    "# plt.plot(x1,1-x1)\n",
    "# plt.plot(x1, (1-x1**2)**0.5)\n",
    "# plt.plot(x1, -(1-x1**2)**0.5)\n",
    "# plt.imshow([X,Y],cmap=hot)\n"
   ]
  },
  {
   "cell_type": "code",
   "execution_count": null,
   "metadata": {},
   "outputs": [
    {
     "data": {
      "text/plain": [
       "array([-1.17197013e+04,  6.47953836e-01,  6.47953836e-01,  6.09182363e+02,\n",
       "        3.44915693e+02, -2.19131280e+02,  9.58587023e-01,  9.58587023e-01,\n",
       "       -3.73704528e+01,  1.40153478e+00,  2.89236923e+01,  1.40153478e+00,\n",
       "        3.51904619e+00,  3.51904619e+00, -2.25553237e+00, -2.25553237e+00,\n",
       "        2.87772747e-01,  2.87772747e-01,  1.32081262e+00, -5.23969092e-01,\n",
       "       -5.23969092e-01, -3.35063401e-01,  2.19446131e-01,  2.19446131e-01,\n",
       "        1.31546541e-01, -1.13137795e-02, -3.19386578e-12,  1.14726623e-12])"
      ]
     },
     "execution_count": 66,
     "metadata": {},
     "output_type": "execute_result"
    }
   ],
   "source": [
    "x"
   ]
  },
  {
   "cell_type": "code",
   "execution_count": null,
   "metadata": {},
   "outputs": [
    {
     "data": {
      "text/plain": [
       "array([-1.68247100e-05, -1.57263592e-06, -1.57263592e-06, -2.05515865e-01,\n",
       "        5.40897377e-01,  2.66239992e-01,  4.33068194e-03,  4.33068147e-03,\n",
       "        6.17822955e-01, -9.68319541e-02,  6.85497022e-01, -9.68318811e-02,\n",
       "        6.00455064e-01,  6.00455348e-01,  5.84934245e-01,  5.84934503e-01,\n",
       "        6.58572459e-01,  6.58571695e-01,  6.61329705e-01,  6.55264248e-01,\n",
       "        6.55263608e-01,  6.59697421e-01,  6.60183203e-01,  6.60183069e-01,\n",
       "        6.60159468e-01,  6.60018178e-01,  6.60029373e-01,  6.60029373e-01])"
      ]
     },
     "execution_count": 67,
     "metadata": {},
     "output_type": "execute_result"
    }
   ],
   "source": [
    "w"
   ]
  },
  {
   "cell_type": "code",
   "execution_count": null,
   "metadata": {},
   "outputs": [
    {
     "data": {
      "text/plain": [
       "-337437183762.0872"
      ]
     },
     "execution_count": 74,
     "metadata": {},
     "output_type": "execute_result"
    }
   ],
   "source": [
    "i,j =4,0\n",
    "f = lambda x,y:x**i*y**j\n",
    "res = 0\n",
    "for k in range(len(w)):\n",
    "    \n",
    "    res += w[k]*f(x[k],y[k])\n",
    "res\n"
   ]
  },
  {
   "cell_type": "code",
   "execution_count": null,
   "metadata": {},
   "outputs": [
    {
     "data": {
      "text/plain": [
       "[-9.453422794496252e-17,\n",
       " -5.187822692048413e-17,\n",
       " -2.837318539941243e-17,\n",
       " 3.9333333333333473,\n",
       " -1.427703678750277e-16,\n",
       " 1.0000000000000016,\n",
       " -1.9038590148845458e-16,\n",
       " 0.0,\n",
       " -1.999999999999986,\n",
       " 0.0,\n",
       " -5.880441533018255e-17,\n",
       " 13.999999999999956,\n",
       " 13.333333333333304,\n",
       " 2.0000000000000018,\n",
       " 11.999999999999973]"
      ]
     },
     "execution_count": 69,
     "metadata": {},
     "output_type": "execute_result"
    }
   ],
   "source": [
    "I"
   ]
  },
  {
   "cell_type": "code",
   "execution_count": null,
   "metadata": {},
   "outputs": [],
   "source": [
    "(27/16)**.5"
   ]
  }
 ],
 "metadata": {
  "kernelspec": {
   "display_name": "Python 3",
   "language": "python",
   "name": "python3"
  },
  "language_info": {
   "codemirror_mode": {
    "name": "ipython",
    "version": 3
   },
   "file_extension": ".py",
   "mimetype": "text/x-python",
   "name": "python",
   "nbconvert_exporter": "python",
   "pygments_lexer": "ipython3",
   "version": "3.10.7"
  },
  "orig_nbformat": 4,
  "vscode": {
   "interpreter": {
    "hash": "cad61ae8431c49f26e9fee3c9989b49482630e8d89b3df831c10155811824382"
   }
  }
 },
 "nbformat": 4,
 "nbformat_minor": 2
}

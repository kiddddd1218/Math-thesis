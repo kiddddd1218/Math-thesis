{
 "cells": [
  {
   "cell_type": "code",
   "execution_count": 1,
   "metadata": {},
   "outputs": [],
   "source": [
    "import scipy\n",
    "import numpy as np\n",
    "from scipy.special import roots_legendre, eval_legendre\n",
    "from numpy.linalg import norm\n",
    "# from scipy.optimize import minimize"
   ]
  },
  {
   "attachments": {},
   "cell_type": "markdown",
   "metadata": {},
   "source": [
    "## Stage 1: Construct an initial quadrature on X\n"
   ]
  },
  {
   "cell_type": "code",
   "execution_count": 2,
   "metadata": {},
   "outputs": [],
   "source": [
    "## X is a Rectangle\n",
    "a,b = -1,1\n",
    "c,d = -1,1\n",
    "\n",
    "n = 8\n",
    "roots, weights = roots_legendre(n)\n",
    "mapped_roots = a + (b-a)*(roots+1)/2\n",
    "mapped_weights = (b-a)*weights/2\n",
    "tensor_w = mapped_weights.reshape(n,1)@mapped_weights.reshape(1,n)"
   ]
  },
  {
   "attachments": {},
   "cell_type": "markdown",
   "metadata": {},
   "source": [
    "# Stage 2: Construct an orthonormal basis of the space $P_n$"
   ]
  },
  {
   "cell_type": "code",
   "execution_count": 3,
   "metadata": {},
   "outputs": [],
   "source": [
    "def int_f(f,n):\n",
    "    res = 0\n",
    "    for i in range(n):\n",
    "        for j in range(n):\n",
    "            res += tensor_w[i][j] * f(mapped_roots[i] , mapped_roots[j])\n",
    "    return res\n",
    "\n",
    "def start(i,N):\n",
    "    return (2*N+4-i)*(i-1) // 2\n",
    "def end(i,N):\n",
    "    return (2*N+3-i)*i//2-1\n",
    "\n",
    "def vec2tri(vec,N):\n",
    "    empty = np.zeros((N+1,N+1))\n",
    "    for row in range(N):\n",
    "        s = start(row+1,N)\n",
    "        e = end(row+1,N)\n",
    "        new_row = np.concatenate([vec[s:e+1],np.zeros(N-(e-s))],axis=0)\n",
    "        empty[row] += new_row\n",
    "    return empty\n",
    "\n",
    "def tri2vec(tri,N):\n",
    "    l = []\n",
    "    for row in range(N+1):\n",
    "         l.append(tri[row][:N+1-row])\n",
    "    return np.block(l)\n",
    "\n",
    "def xvec(vec,k,N):\n",
    "    vec_tri = vec2tri(vec,N)\n",
    "    newtri = np.zeros((N+1,N+1))\n",
    "    for i in range(k):\n",
    "        for j in range(k):\n",
    "            if vec_tri[i,j] != 0:\n",
    "                newtri[i+1,j] = vec_tri[i,j]\n",
    "    return tri2vec(newtri,N)\n",
    "\n",
    "def yvec(vec,k,N):\n",
    "    vec_tri = vec2tri(vec,N)\n",
    "    newtri = np.zeros((N+1,N+1))\n",
    "    for i in range(k):\n",
    "        for j in range(k):\n",
    "            if vec_tri[i,j] != 0:\n",
    "                newtri[i,j+1] = vec_tri[i,j]\n",
    "    return tri2vec(newtri,N)\n",
    "\n",
    "def eval_vec(vec,x,y,n):\n",
    "    mat = vec2tri(vec,n)\n",
    "    res = 0\n",
    "    for row in range(n):\n",
    "        for j in range(n):\n",
    "            if mat[row][j] != 0:\n",
    "                res += mat[row][j] * x**row * y**j\n",
    "    return res\n",
    "\n",
    "def eval_xderivative(vec,x,y,n):\n",
    "    mat = vec2tri(vec,n)\n",
    "    res = 0\n",
    "    for row in range(n):\n",
    "        for j in range(n):\n",
    "            if mat[row][j] != 0:\n",
    "                if row == 0:\n",
    "                    res += 0\n",
    "                else:\n",
    "                    res += row * mat[row][j] * x**(row-1) * y**j\n",
    "    return res\n",
    "\n",
    "def eval_yderivative(vec,x,y,n):\n",
    "    mat = vec2tri(vec,n)\n",
    "    res = 0\n",
    "    for row in range(n):\n",
    "        for j in range(n):\n",
    "            if mat[row][j] != 0:\n",
    "                if j == 0:\n",
    "                    res += 0\n",
    "                else:\n",
    "                    res += j * mat[row][j] * x**row * y**(j-1)\n",
    "    return res\n",
    "\n",
    "def find_basis(d):\n",
    "    p0 = np.block([1,np.zeros((d+1)*(d+2)//2-1)])\n",
    "    basis = [p0.reshape(-1,1)]\n",
    "\n",
    "    for k in range(1,d+1):\n",
    "        cb = basis.copy()\n",
    "        for p in basis:\n",
    "            xb = xvec(p.flatten(),k,d)\n",
    "            yb = yvec(p.flatten(),k,d)\n",
    "            cb.append(xb.reshape(-1,1))\n",
    "            cb.append(yb.reshape(-1,1))\n",
    "        threeK = np.concatenate(cb,axis=1)    \n",
    "        u,r,vh = scipy.linalg.svd(threeK)\n",
    "        basis = []\n",
    "        for i in range(r.shape[0]):\n",
    "            basis.append(u[:,i].reshape(-1,1))\n",
    "    return basis\n",
    "\n",
    "basis = find_basis(n)"
   ]
  },
  {
   "attachments": {},
   "cell_type": "markdown",
   "metadata": {},
   "source": [
    "# Stage 3: Find the eigenvalues of $P_U \\circ M_{x+iy}$"
   ]
  },
  {
   "cell_type": "code",
   "execution_count": 4,
   "metadata": {},
   "outputs": [],
   "source": [
    "N = len(basis)\n",
    "A = np.zeros((N,N),dtype=complex)\n",
    "for i in range(N):\n",
    "    for j in range(N):\n",
    "        f = lambda x,y: complex(x,y)*eval_vec(basis[i].flatten(),x,y,n)*np.conj(eval_vec(basis[j].flatten(),x,y,n))\n",
    "        A[i][j] = int_f(f,n)\n",
    "eigens = scipy.linalg.eigvals(A)\n",
    "X,Y = eigens.real,eigens.imag"
   ]
  },
  {
   "attachments": {},
   "cell_type": "markdown",
   "metadata": {},
   "source": [
    "# Stage 4: Construct the quadrature"
   ]
  },
  {
   "cell_type": "code",
   "execution_count": 5,
   "metadata": {},
   "outputs": [],
   "source": [
    "m = n\n",
    "M =(m+1)*(m+2)//2\n",
    "basis_m = find_basis(m)\n",
    "I = []\n",
    "for j in range(M):\n",
    "    f = lambda x,y: eval_vec(basis_m[j].flatten(),x,y,m)\n",
    "    I.append(int_f(f,n))\n",
    "\n",
    "\n",
    "phi = np.zeros((M,eigens.shape[0]))\n",
    "for i in range(M):\n",
    "    p = basis_m[i].flatten()\n",
    "    for j in range(mapped_roots.shape[0]):\n",
    "        r = mapped_roots[j]\n",
    "        phi[i][j] = eval_vec(p,r,r,m)\n",
    "omega = np.linalg.pinv(phi)@np.array(I)"
   ]
  },
  {
   "cell_type": "code",
   "execution_count": 7,
   "metadata": {},
   "outputs": [],
   "source": [
    "x0 = np.concatenate([X,Y,omega])\n",
    "NN = (n+1)*(n+2)//2\n",
    "\n",
    "def F(point):\n",
    "    x = point[:NN]\n",
    "    y = point[NN:2*NN]\n",
    "    w = point[2*NN:]\n",
    "    res = np.zeros(M)\n",
    "    for i in range(M):\n",
    "        eval = np.array([eval_vec(basis_m[i].flatten(),x[i],y[i],m) for i in range(NN)])\n",
    "        res[i] = eval@w\n",
    "    res -= I\n",
    "    return res\n",
    "\n",
    "def residual(point):\n",
    "    return (F(point)**2).sum()\n",
    "\n",
    "def J(point):\n",
    "    x = point[:NN]\n",
    "    y = point[NN:2*NN]\n",
    "    w = point[2*NN:]\n",
    "\n",
    "    res = np.zeros((M,3*NN))\n",
    "    for i in range(M):\n",
    "        dx = np.array([eval_xderivative(basis_m[i].flatten(),x[j],y[j],m) for j in range(NN)])*w\n",
    "        dy = np.array([eval_yderivative(basis_m[i].flatten(),x[j],y[j],m) for j in range(NN)])*w\n",
    "        dw = np.array([eval_vec(basis_m[i].flatten(),x[j],y[j],m) for j in range(NN)])\n",
    "        res[i] = np.concatenate([dx,dy,dw],axis=0)\n",
    "    return res\n",
    "\n",
    "tol = 1e-8\n",
    "point = x0\n",
    "step = 0\n",
    "for i in range(10):\n",
    "\n",
    "    step += 1\n",
    "\n",
    "    # mul = lambda x: J(point).T@(J(point)@x)\n",
    "    # Jt_J = scipy.sparse.linalg.LinearOperator(\n",
    "    #     shape=(3*NN, 3*NN), matvec=mul, rmatvec=mul, matmat=mul, rmatmat=mul)\n",
    "    # point_proposal = point - scipy.sparse.linalg.cg(Jt_J, J(point).T@F(point), tol=min(tol, residual(point)))[0]\n",
    "    point_proposal = point - scipy.linalg.pinv(J(point).T@J(point))@(J(point).T)@F(point)\n",
    "    if residual(point_proposal) <= tol:\n",
    "        point = point_proposal\n",
    "        break\n",
    "    # if step % 10 == 0:\n",
    "    #     print('{}th residual is {}.'.format(step,residual(point)))\n",
    "    point = point_proposal"
   ]
  },
  {
   "attachments": {},
   "cell_type": "markdown",
   "metadata": {},
   "source": [
    "# 45 Points"
   ]
  },
  {
   "cell_type": "code",
   "execution_count": 11,
   "metadata": {},
   "outputs": [
    {
     "data": {
      "text/plain": [
       "<matplotlib.collections.PathCollection at 0x22be203e440>"
      ]
     },
     "execution_count": 11,
     "metadata": {},
     "output_type": "execute_result"
    },
    {
     "data": {
      "image/png": "[encoded data removed]",
      "text/plain": [
       "<Figure size 640x480 with 1 Axes>"
      ]
     },
     "metadata": {},
     "output_type": "display_data"
    }
   ],
   "source": [
    "x = point[:NN]\n",
    "y = point[NN:2*NN]\n",
    "w = point[2*NN:]\n",
    "import matplotlib.pyplot as plt\n",
    "plt.scatter(x,y,s=4)"
   ]
  }
 ],
 "metadata": {
  "kernelspec": {
   "display_name": "Python 3",
   "language": "python",
   "name": "python3"
  },
  "language_info": {
   "codemirror_mode": {
    "name": "ipython",
    "version": 3
   },
   "file_extension": ".py",
   "mimetype": "text/x-python",
   "name": "python",
   "nbconvert_exporter": "python",
   "pygments_lexer": "ipython3",
   "version": "3.10.7"
  },
  "orig_nbformat": 4,
  "vscode": {
   "interpreter": {
    "hash": "cad61ae8431c49f26e9fee3c9989b49482630e8d89b3df831c10155811824382"
   }
  }
 },
 "nbformat": 4,
 "nbformat_minor": 2
}

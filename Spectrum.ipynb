{
 "cells": [
  {
   "cell_type": "code",
   "execution_count": 1,
   "metadata": {},
   "outputs": [],
   "source": [
    "import scipy\n",
    "import numpy as np\n",
    "from scipy.special import roots_legendre, eval_legendre\n",
    "from numpy.linalg import norm\n",
    "# from scipy.optimize import minimize"
   ]
  },
  {
   "attachments": {},
   "cell_type": "markdown",
   "metadata": {},
   "source": [
    "## Stage 1: Construct an initial quadrature on X\n"
   ]
  },
  {
   "cell_type": "code",
   "execution_count": 13,
   "metadata": {},
   "outputs": [],
   "source": [
    "## X is a Rectangle\n",
    "a,b = -1,1\n",
    "c,d = -1,1\n",
    "\n",
    "n =15\n",
    "roots, weights = roots_legendre(n)\n",
    "mapped_roots = a + (b-a)*(roots+1)/2\n",
    "mapped_weights = (b-a)*weights/2\n",
    "tensor_w = mapped_weights.reshape(n,1)@mapped_weights.reshape(1,n)"
   ]
  },
  {
   "attachments": {},
   "cell_type": "markdown",
   "metadata": {},
   "source": [
    "# Stage 2: Construct an orthonormal basis of the space $P_n$"
   ]
  },
  {
   "cell_type": "code",
   "execution_count": 14,
   "metadata": {},
   "outputs": [],
   "source": [
    "def int_f(f,n):\n",
    "    res = 0\n",
    "    for i in range(n):\n",
    "        for j in range(n):\n",
    "            res += tensor_w[i][j] * f(mapped_roots[i] , mapped_roots[j])\n",
    "    return res\n",
    "\n",
    "def start(i,N):\n",
    "    return (2*N+4-i)*(i-1) // 2\n",
    "def end(i,N):\n",
    "    return (2*N+3-i)*i//2-1\n",
    "\n",
    "def vec2tri(vec,N):\n",
    "    empty = np.zeros((N+1,N+1))\n",
    "    for row in range(N):\n",
    "        s = start(row+1,N)\n",
    "        e = end(row+1,N)\n",
    "        new_row = np.concatenate([vec[s:e+1],np.zeros(N-(e-s))],axis=0)\n",
    "        empty[row] += new_row\n",
    "    return empty\n",
    "\n",
    "def tri2vec(tri,N):\n",
    "    l = []\n",
    "    for row in range(N+1):\n",
    "         l.append(tri[row][:N+1-row])\n",
    "    return np.block(l)\n",
    "\n",
    "def xvec(vec,k,N):\n",
    "    vec_tri = vec2tri(vec,N)\n",
    "    newtri = np.zeros((N+1,N+1))\n",
    "    for i in range(k):\n",
    "        for j in range(k):\n",
    "            if vec_tri[i,j] != 0:\n",
    "                newtri[i+1,j] = vec_tri[i,j]\n",
    "    return tri2vec(newtri,N)\n",
    "\n",
    "def yvec(vec,k,N):\n",
    "    vec_tri = vec2tri(vec,N)\n",
    "    newtri = np.zeros((N+1,N+1))\n",
    "    for i in range(k):\n",
    "        for j in range(k):\n",
    "            if vec_tri[i,j] != 0:\n",
    "                newtri[i,j+1] = vec_tri[i,j]\n",
    "    return tri2vec(newtri,N)\n",
    "\n",
    "def eval_vec(vec,x,y,n):\n",
    "    mat = vec2tri(vec,n)\n",
    "    res = 0\n",
    "    for row in range(n):\n",
    "        for j in range(n):\n",
    "            if mat[row][j] != 0:\n",
    "                res += mat[row][j] * x**row * y**j\n",
    "    return res\n",
    "\n",
    "def eval_xderivative(vec,x,y,n):\n",
    "    mat = vec2tri(vec,n)\n",
    "    res = 0\n",
    "    for row in range(n):\n",
    "        for j in range(n):\n",
    "            if mat[row][j] != 0:\n",
    "                if row == 0:\n",
    "                    res += 0\n",
    "                else:\n",
    "                    res += row * mat[row][j] * x**(row-1) * y**j\n",
    "    return res\n",
    "\n",
    "def eval_yderivative(vec,x,y,n):\n",
    "    mat = vec2tri(vec,n)\n",
    "    res = 0\n",
    "    for row in range(n):\n",
    "        for j in range(n):\n",
    "            if mat[row][j] != 0:\n",
    "                if j == 0:\n",
    "                    res += 0\n",
    "                else:\n",
    "                    res += j * mat[row][j] * x**row * y**(j-1)\n",
    "    return res\n",
    "\n",
    "def find_basis(d):\n",
    "    p0 = np.block([1,np.zeros((d+1)*(d+2)//2-1)])\n",
    "    basis = [p0.reshape(-1,1)]\n",
    "\n",
    "    for k in range(1,d+1):\n",
    "        cb = basis.copy()\n",
    "        for p in basis:\n",
    "            xb = xvec(p.flatten(),k,d)\n",
    "            yb = yvec(p.flatten(),k,d)\n",
    "            cb.append(xb.reshape(-1,1))\n",
    "            cb.append(yb.reshape(-1,1))\n",
    "        threeK = np.concatenate(cb,axis=1)    \n",
    "        u,r,vh = scipy.linalg.svd(threeK)\n",
    "        basis = []\n",
    "        for i in range(r.shape[0]):\n",
    "            basis.append(u[:,i].reshape(-1,1))\n",
    "    return basis\n",
    "\n",
    "basis = find_basis(n)"
   ]
  },
  {
   "attachments": {},
   "cell_type": "markdown",
   "metadata": {},
   "source": [
    "# Stage 3: Find the eigenvalues of $P_U \\circ M_{x+iy}$"
   ]
  },
  {
   "cell_type": "code",
   "execution_count": 18,
   "metadata": {},
   "outputs": [],
   "source": [
    "N = len(basis)\n",
    "A = np.zeros((N,N),dtype=complex)\n",
    "for i in range(N):\n",
    "    for j in range(N):\n",
    "        f = lambda x,y: complex(x,y)*eval_vec(basis[i].flatten(),x,y,n)*np.conj(eval_vec(basis[j].flatten(),x,y,n))\n",
    "        A[i][j] = int_f(f,n)\n",
    "eigens = scipy.linalg.eigvals(A)\n",
    "X,Y = eigens.real,eigens.imag"
   ]
  },
  {
   "cell_type": "code",
   "execution_count": 10,
   "metadata": {},
   "outputs": [
    {
     "data": {
      "text/plain": [
       "<matplotlib.collections.PathCollection at 0x1e7eda497e0>"
      ]
     },
     "execution_count": 10,
     "metadata": {},
     "output_type": "execute_result"
    },
    {
     "data": {
      "image/png": "[encoded data removed]",
      "text/plain": [
       "<Figure size 640x480 with 1 Axes>"
      ]
     },
     "metadata": {},
     "output_type": "display_data"
    }
   ],
   "source": [
    "import matplotlib.pyplot as plt \n",
    "plt.scatter(X,Y,s=.1)"
   ]
  },
  {
   "attachments": {},
   "cell_type": "markdown",
   "metadata": {},
   "source": [
    "# Stage 4: Construct the quadrature"
   ]
  },
  {
   "cell_type": "code",
   "execution_count": 5,
   "metadata": {},
   "outputs": [],
   "source": [
    "m = n\n",
    "M =(m+1)*(m+2)//2\n",
    "basis_m = find_basis(m)\n",
    "I = []\n",
    "for j in range(M):\n",
    "    f = lambda x,y: eval_vec(basis_m[j].flatten(),x,y,m)\n",
    "    I.append(int_f(f,n))\n",
    "\n",
    "\n",
    "phi = np.zeros((M,eigens.shape[0]))\n",
    "for i in range(M):\n",
    "    p = basis_m[i].flatten()\n",
    "    for j in range(mapped_roots.shape[0]):\n",
    "        r = mapped_roots[j]\n",
    "        phi[i][j] = eval_vec(p,r,r,m)\n",
    "omega = np.linalg.pinv(phi)@np.array(I)"
   ]
  },
  {
   "cell_type": "code",
   "execution_count": 6,
   "metadata": {},
   "outputs": [
    {
     "name": "stdout",
     "output_type": "stream",
     "text": [
      "0\n"
     ]
    },
    {
     "ename": "KeyboardInterrupt",
     "evalue": "",
     "output_type": "error",
     "traceback": [
      "\u001b[1;31m---------------------------------------------------------------------------\u001b[0m",
      "\u001b[1;31mKeyboardInterrupt\u001b[0m                         Traceback (most recent call last)",
      "Cell \u001b[1;32mIn [6], line 48\u001b[0m\n\u001b[0;32m     46\u001b[0m \u001b[38;5;66;03m# step += 1\u001b[39;00m\n\u001b[0;32m     47\u001b[0m p \u001b[38;5;241m=\u001b[39m scipy\u001b[38;5;241m.\u001b[39mlinalg\u001b[38;5;241m.\u001b[39minv(J(point)\u001b[38;5;241m.\u001b[39mT\u001b[38;5;129m@J\u001b[39m(point) \u001b[38;5;241m+\u001b[39m mu\u001b[38;5;241m*\u001b[39mA)\u001b[38;5;241m@\u001b[39m(J(point)\u001b[38;5;241m.\u001b[39mT)\u001b[38;5;129m@F\u001b[39m(point)\n\u001b[1;32m---> 48\u001b[0m alpha \u001b[38;5;241m=\u001b[39m \u001b[43mline_search\u001b[49m\u001b[43m(\u001b[49m\u001b[43mp\u001b[49m\u001b[43m,\u001b[49m\u001b[43mpoint\u001b[49m\u001b[43m)\u001b[49m\n\u001b[0;32m     49\u001b[0m \u001b[38;5;66;03m# print(\"Linesearch finished\")\u001b[39;00m\n\u001b[0;32m     50\u001b[0m point_proposal \u001b[38;5;241m=\u001b[39m point \u001b[38;5;241m-\u001b[39m p \u001b[38;5;241m*\u001b[39m alpha\n",
      "Cell \u001b[1;32mIn [6], line 33\u001b[0m, in \u001b[0;36mline_search\u001b[1;34m(p, point)\u001b[0m\n\u001b[0;32m     31\u001b[0m \u001b[38;5;28;01mdef\u001b[39;00m \u001b[38;5;21mline_search\u001b[39m(p,point):\n\u001b[0;32m     32\u001b[0m     alpha \u001b[38;5;241m=\u001b[39m \u001b[38;5;241m.1\u001b[39m\n\u001b[1;32m---> 33\u001b[0m     \u001b[38;5;28;01mwhile\u001b[39;00m (F(point \u001b[38;5;241m+\u001b[39m alpha\u001b[38;5;241m*\u001b[39mp) \u001b[38;5;241m>\u001b[39m F(point) \u001b[38;5;241m+\u001b[39m \u001b[38;5;241m0.3\u001b[39m \u001b[38;5;241m*\u001b[39m alpha \u001b[38;5;241m*\u001b[39m \u001b[43mJ\u001b[49m\u001b[43m(\u001b[49m\u001b[43mpoint\u001b[49m\u001b[43m)\u001b[49m\u001b[38;5;129m@p\u001b[39m)\u001b[38;5;241m.\u001b[39many():\n\u001b[0;32m     34\u001b[0m         alpha \u001b[38;5;241m*\u001b[39m\u001b[38;5;241m=\u001b[39m \u001b[38;5;241m0.8\u001b[39m\n\u001b[0;32m     35\u001b[0m         \u001b[38;5;28;01mif\u001b[39;00m alpha \u001b[38;5;241m<\u001b[39m\u001b[38;5;241m=\u001b[39m \u001b[38;5;241m1e-100\u001b[39m:\n",
      "Cell \u001b[1;32mIn [6], line 27\u001b[0m, in \u001b[0;36mJ\u001b[1;34m(point)\u001b[0m\n\u001b[0;32m     25\u001b[0m     dx \u001b[38;5;241m=\u001b[39m np\u001b[38;5;241m.\u001b[39marray([eval_xderivative(basis_m[i]\u001b[38;5;241m.\u001b[39mflatten(),x[j],y[j],m) \u001b[38;5;28;01mfor\u001b[39;00m j \u001b[38;5;129;01min\u001b[39;00m \u001b[38;5;28mrange\u001b[39m(NN)])\u001b[38;5;241m*\u001b[39mw\n\u001b[0;32m     26\u001b[0m     dy \u001b[38;5;241m=\u001b[39m np\u001b[38;5;241m.\u001b[39marray([eval_yderivative(basis_m[i]\u001b[38;5;241m.\u001b[39mflatten(),x[j],y[j],m) \u001b[38;5;28;01mfor\u001b[39;00m j \u001b[38;5;129;01min\u001b[39;00m \u001b[38;5;28mrange\u001b[39m(NN)])\u001b[38;5;241m*\u001b[39mw\n\u001b[1;32m---> 27\u001b[0m     dw \u001b[38;5;241m=\u001b[39m np\u001b[38;5;241m.\u001b[39marray([eval_vec(basis_m[i]\u001b[38;5;241m.\u001b[39mflatten(),x[j],y[j],m) \u001b[38;5;28;01mfor\u001b[39;00m j \u001b[38;5;129;01min\u001b[39;00m \u001b[38;5;28mrange\u001b[39m(NN)])\n\u001b[0;32m     28\u001b[0m     res[i] \u001b[38;5;241m=\u001b[39m np\u001b[38;5;241m.\u001b[39mconcatenate([dx,dy,dw],axis\u001b[38;5;241m=\u001b[39m\u001b[38;5;241m0\u001b[39m)\n\u001b[0;32m     29\u001b[0m \u001b[38;5;28;01mreturn\u001b[39;00m res\n",
      "Cell \u001b[1;32mIn [6], line 27\u001b[0m, in \u001b[0;36m<listcomp>\u001b[1;34m(.0)\u001b[0m\n\u001b[0;32m     25\u001b[0m     dx \u001b[38;5;241m=\u001b[39m np\u001b[38;5;241m.\u001b[39marray([eval_xderivative(basis_m[i]\u001b[38;5;241m.\u001b[39mflatten(),x[j],y[j],m) \u001b[38;5;28;01mfor\u001b[39;00m j \u001b[38;5;129;01min\u001b[39;00m \u001b[38;5;28mrange\u001b[39m(NN)])\u001b[38;5;241m*\u001b[39mw\n\u001b[0;32m     26\u001b[0m     dy \u001b[38;5;241m=\u001b[39m np\u001b[38;5;241m.\u001b[39marray([eval_yderivative(basis_m[i]\u001b[38;5;241m.\u001b[39mflatten(),x[j],y[j],m) \u001b[38;5;28;01mfor\u001b[39;00m j \u001b[38;5;129;01min\u001b[39;00m \u001b[38;5;28mrange\u001b[39m(NN)])\u001b[38;5;241m*\u001b[39mw\n\u001b[1;32m---> 27\u001b[0m     dw \u001b[38;5;241m=\u001b[39m np\u001b[38;5;241m.\u001b[39marray([\u001b[43meval_vec\u001b[49m\u001b[43m(\u001b[49m\u001b[43mbasis_m\u001b[49m\u001b[43m[\u001b[49m\u001b[43mi\u001b[49m\u001b[43m]\u001b[49m\u001b[38;5;241;43m.\u001b[39;49m\u001b[43mflatten\u001b[49m\u001b[43m(\u001b[49m\u001b[43m)\u001b[49m\u001b[43m,\u001b[49m\u001b[43mx\u001b[49m\u001b[43m[\u001b[49m\u001b[43mj\u001b[49m\u001b[43m]\u001b[49m\u001b[43m,\u001b[49m\u001b[43my\u001b[49m\u001b[43m[\u001b[49m\u001b[43mj\u001b[49m\u001b[43m]\u001b[49m\u001b[43m,\u001b[49m\u001b[43mm\u001b[49m\u001b[43m)\u001b[49m \u001b[38;5;28;01mfor\u001b[39;00m j \u001b[38;5;129;01min\u001b[39;00m \u001b[38;5;28mrange\u001b[39m(NN)])\n\u001b[0;32m     28\u001b[0m     res[i] \u001b[38;5;241m=\u001b[39m np\u001b[38;5;241m.\u001b[39mconcatenate([dx,dy,dw],axis\u001b[38;5;241m=\u001b[39m\u001b[38;5;241m0\u001b[39m)\n\u001b[0;32m     29\u001b[0m \u001b[38;5;28;01mreturn\u001b[39;00m res\n",
      "Cell \u001b[1;32mIn [3], line 47\u001b[0m, in \u001b[0;36meval_vec\u001b[1;34m(vec, x, y, n)\u001b[0m\n\u001b[0;32m     46\u001b[0m \u001b[38;5;28;01mdef\u001b[39;00m \u001b[38;5;21meval_vec\u001b[39m(vec,x,y,n):\n\u001b[1;32m---> 47\u001b[0m     mat \u001b[38;5;241m=\u001b[39m \u001b[43mvec2tri\u001b[49m\u001b[43m(\u001b[49m\u001b[43mvec\u001b[49m\u001b[43m,\u001b[49m\u001b[43mn\u001b[49m\u001b[43m)\u001b[49m\n\u001b[0;32m     48\u001b[0m     res \u001b[38;5;241m=\u001b[39m \u001b[38;5;241m0\u001b[39m\n\u001b[0;32m     49\u001b[0m     \u001b[38;5;28;01mfor\u001b[39;00m row \u001b[38;5;129;01min\u001b[39;00m \u001b[38;5;28mrange\u001b[39m(n):\n",
      "Cell \u001b[1;32mIn [3], line 18\u001b[0m, in \u001b[0;36mvec2tri\u001b[1;34m(vec, N)\u001b[0m\n\u001b[0;32m     16\u001b[0m     s \u001b[38;5;241m=\u001b[39m start(row\u001b[38;5;241m+\u001b[39m\u001b[38;5;241m1\u001b[39m,N)\n\u001b[0;32m     17\u001b[0m     e \u001b[38;5;241m=\u001b[39m end(row\u001b[38;5;241m+\u001b[39m\u001b[38;5;241m1\u001b[39m,N)\n\u001b[1;32m---> 18\u001b[0m     new_row \u001b[38;5;241m=\u001b[39m \u001b[43mnp\u001b[49m\u001b[38;5;241;43m.\u001b[39;49m\u001b[43mconcatenate\u001b[49m\u001b[43m(\u001b[49m\u001b[43m[\u001b[49m\u001b[43mvec\u001b[49m\u001b[43m[\u001b[49m\u001b[43ms\u001b[49m\u001b[43m:\u001b[49m\u001b[43me\u001b[49m\u001b[38;5;241;43m+\u001b[39;49m\u001b[38;5;241;43m1\u001b[39;49m\u001b[43m]\u001b[49m\u001b[43m,\u001b[49m\u001b[43mnp\u001b[49m\u001b[38;5;241;43m.\u001b[39;49m\u001b[43mzeros\u001b[49m\u001b[43m(\u001b[49m\u001b[43mN\u001b[49m\u001b[38;5;241;43m-\u001b[39;49m\u001b[43m(\u001b[49m\u001b[43me\u001b[49m\u001b[38;5;241;43m-\u001b[39;49m\u001b[43ms\u001b[49m\u001b[43m)\u001b[49m\u001b[43m)\u001b[49m\u001b[43m]\u001b[49m\u001b[43m,\u001b[49m\u001b[43maxis\u001b[49m\u001b[38;5;241;43m=\u001b[39;49m\u001b[38;5;241;43m0\u001b[39;49m\u001b[43m)\u001b[49m\n\u001b[0;32m     19\u001b[0m     empty[row] \u001b[38;5;241m+\u001b[39m\u001b[38;5;241m=\u001b[39m new_row\n\u001b[0;32m     20\u001b[0m \u001b[38;5;28;01mreturn\u001b[39;00m empty\n",
      "File \u001b[1;32m<__array_function__ internals>:180\u001b[0m, in \u001b[0;36mconcatenate\u001b[1;34m(*args, **kwargs)\u001b[0m\n",
      "\u001b[1;31mKeyboardInterrupt\u001b[0m: "
     ]
    }
   ],
   "source": [
    "x0 = np.concatenate([X,Y,omega])\n",
    "NN = (n+1)*(n+2)//2\n",
    "\n",
    "def F(point):\n",
    "    x = point[:NN]\n",
    "    y = point[NN:2*NN]\n",
    "    w = point[2*NN:]\n",
    "    res = np.zeros(M)\n",
    "    for i in range(M):\n",
    "        eval = np.array([eval_vec(basis_m[i].flatten(),x[i],y[i],m) for i in range(NN)])\n",
    "        res[i] = eval@w\n",
    "    res -= I\n",
    "    return res\n",
    "\n",
    "def residual(point):\n",
    "    return (F(point)**2).sum()\n",
    "\n",
    "def J(point):\n",
    "    x = point[:NN]\n",
    "    y = point[NN:2*NN]\n",
    "    w = point[2*NN:]\n",
    "\n",
    "    res = np.zeros((M,3*NN))\n",
    "    for i in range(M):\n",
    "        dx = np.array([eval_xderivative(basis_m[i].flatten(),x[j],y[j],m) for j in range(NN)])*w\n",
    "        dy = np.array([eval_yderivative(basis_m[i].flatten(),x[j],y[j],m) for j in range(NN)])*w\n",
    "        dw = np.array([eval_vec(basis_m[i].flatten(),x[j],y[j],m) for j in range(NN)])\n",
    "        res[i] = np.concatenate([dx,dy,dw],axis=0)\n",
    "    return res\n",
    "\n",
    "def line_search(p,point):\n",
    "    alpha = .1\n",
    "    while (F(point + alpha*p) > F(point) + 0.3 * alpha * J(point)@p).any():\n",
    "        alpha *= 0.8\n",
    "        if alpha <= 1e-100:\n",
    "            break\n",
    "    return alpha\n",
    "\n",
    "tol = 1e-8\n",
    "point = x0\n",
    "step = 0\n",
    "A = np.eye(3*NN)\n",
    "mu = 1e-9\n",
    "for i in range(100):\n",
    "    print(i)\n",
    "    # step += 1\n",
    "    p = scipy.linalg.inv(J(point).T@J(point) + mu*A)@(J(point).T)@F(point)\n",
    "    alpha = line_search(p,point)\n",
    "    # print(\"Linesearch finished\")\n",
    "    point_proposal = point - p * alpha\n",
    "    # diff = (point_proposal - point).reshape(-1,1)\n",
    "\n",
    "    # A = ((J(point_proposal).T@F(point_proposal)-J(point).T@F(point)).reshape(-1,1)) @ (diff.T) @ scipy.linalg.inv(diff@(diff.T))\n",
    "    \n",
    "    if residual(point_proposal) <= tol:\n",
    "        point = point_proposal\n",
    "        break\n",
    "    # if step % 10 == 0:\n",
    "    #     print('{}th residual is {}.'.format(step,residual(point)))\n",
    "    point = point_proposal"
   ]
  },
  {
   "attachments": {},
   "cell_type": "markdown",
   "metadata": {},
   "source": [
    "# 45 Points"
   ]
  },
  {
   "cell_type": "code",
   "execution_count": null,
   "metadata": {},
   "outputs": [
    {
     "data": {
      "image/png": "[encoded data removed]",
      "text/plain": [
       "<Figure size 640x480 with 1 Axes>"
      ]
     },
     "metadata": {},
     "output_type": "display_data"
    }
   ],
   "source": [
    "x = point[:NN]\n",
    "y = point[NN:2*NN]\n",
    "w = point[2*NN:]\n",
    "import matplotlib.pyplot as plt\n",
    "plt.scatter(x,y,s=4)\n",
    "plt.show()"
   ]
  }
 ],
 "metadata": {
  "kernelspec": {
   "display_name": "Python 3",
   "language": "python",
   "name": "python3"
  },
  "language_info": {
   "codemirror_mode": {
    "name": "ipython",
    "version": 3
   },
   "file_extension": ".py",
   "mimetype": "text/x-python",
   "name": "python",
   "nbconvert_exporter": "python",
   "pygments_lexer": "ipython3",
   "version": "3.10.7"
  },
  "orig_nbformat": 4,
  "vscode": {
   "interpreter": {
    "hash": "cad61ae8431c49f26e9fee3c9989b49482630e8d89b3df831c10155811824382"
   }
  }
 },
 "nbformat": 4,
 "nbformat_minor": 2
}

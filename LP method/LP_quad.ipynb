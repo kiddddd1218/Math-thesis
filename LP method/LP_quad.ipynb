{
 "cells": [
  {
   "cell_type": "code",
   "execution_count": 2,
   "metadata": {},
   "outputs": [],
   "source": [
    "import numpy as np\n",
    "import scipy\n",
    "from scipy.special import gamma\n",
    "import matplotlib.pyplot as plt"
   ]
  },
  {
   "cell_type": "code",
   "execution_count": 3,
   "metadata": {},
   "outputs": [],
   "source": [
    "m = 10\n",
    "\n",
    "dirac = lambda X,x: int(x in X)\n",
    "\n",
    "def ps(n):\n",
    "    p , q= [] , []\n",
    "    for i in range(n):\n",
    "        for j in range(n-i):\n",
    "            p.append(lambda x,y: x ** i * y ** j)\n",
    "            if j % 2 == 1 or i % 2 == 1:\n",
    "                q.append(0)\n",
    "            else:\n",
    "                a_i , a_j = i , j\n",
    "                b_i , b_j = (a_i + 1) / 2 , (a_j + 1) / 2\n",
    "                q.append(1/(a_i+a_j+2)*gamma(b_i)*gamma(b_j)*2/gamma(b_i+b_j))\n",
    "    return p , q\n",
    "P , Q = ps(m)\n",
    "rho = np.linspace(0,1,20)\n",
    "theta = np.linspace(0,2*np.pi,20)\n",
    "rv , tv = np.meshgrid(rho , theta)\n",
    "sx , sy = rv * np.cos(tv) , rv * np.sin(tv)\n",
    "r = lambda x , y: x ** m + y ** m\n"
   ]
  }
 ],
 "metadata": {
  "kernelspec": {
   "display_name": "Python 3",
   "language": "python",
   "name": "python3"
  },
  "language_info": {
   "codemirror_mode": {
    "name": "ipython",
    "version": 3
   },
   "file_extension": ".py",
   "mimetype": "text/x-python",
   "name": "python",
   "nbconvert_exporter": "python",
   "pygments_lexer": "ipython3",
   "version": "3.10.7"
  }
 },
 "nbformat": 4,
 "nbformat_minor": 2
}
